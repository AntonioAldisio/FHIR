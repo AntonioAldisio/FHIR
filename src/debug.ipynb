{
 "cells": [
  {
   "cell_type": "code",
   "execution_count": 25,
   "metadata": {},
   "outputs": [],
   "source": [
    "import csv\n",
    "import requests\n",
    "from datetime import datetime\n",
    "import re\n",
    "\n",
    "def ler_dados_csv():\n",
    "    caminho_arquivo = './data/patients.csv'\n",
    "\n",
    "    dados_pacientes = []\n",
    "\n",
    "    with open(caminho_arquivo, newline='', encoding='UTF-8') as arquivo_csv:\n",
    "        leitor_csv = csv.DictReader(arquivo_csv)\n",
    "        for linha in leitor_csv:\n",
    "            dados_pacientes.append(linha)\n",
    "\n",
    "    return dados_pacientes"
   ]
  },
  {
   "cell_type": "code",
   "execution_count": 26,
   "metadata": {},
   "outputs": [],
   "source": [
    "dados = ler_dados_csv()"
   ]
  },
  {
   "cell_type": "code",
   "execution_count": 98,
   "metadata": {},
   "outputs": [
    {
     "name": "stdout",
     "output_type": "stream",
     "text": [
      "Gestante\n",
      "Adicionado com sucesso \n",
      "Gestante\n",
      "Adicionado com sucesso \n",
      "Adicionado com sucesso \n",
      "Adicionado com sucesso \n",
      "Adicionado com sucesso \n",
      "Gestante\n",
      "Adicionado com sucesso \n",
      "Adicionado com sucesso \n",
      "Adicionado com sucesso \n",
      "Adicionado com sucesso \n",
      "Adicionado com sucesso \n",
      "Adicionado com sucesso \n",
      "Adicionado com sucesso \n",
      "Adicionado com sucesso \n",
      "Adicionado com sucesso \n",
      "Gestante\n",
      "Adicionado com sucesso \n"
     ]
    }
   ],
   "source": [
    "def operador(observacao):\n",
    "    saida = observacao.split('|')\n",
    "    return saida\n",
    "\n",
    "def get_id (CPF):\n",
    "    url_get_id_pacient = 'http://0.0.0.0:8080/fhir/Patient?identifier='+CPF\n",
    "    retorno = requests.get(url_get_id_pacient)\n",
    "    retorno_json = retorno.json()\n",
    "    _id = retorno_json.get('entry')[0].get('resource').get('id')\n",
    "    return _id\n",
    "\n",
    "\n",
    "def post_observation(id, observacao):\n",
    "    url_observation = 'http://localhost:8080/fhir/Observation'\n",
    "    body = {\n",
    "        \"resourceType\": \"Observation\",\n",
    "        \"type\": {\n",
    "            \"coding\": [\n",
    "                {\n",
    "                    \"system\": \"http://0.0.0.0/CodeSystem/\",\n",
    "                    \"display\": str(observacao)\n",
    "                }\n",
    "            ]\n",
    "        },\n",
    "        \"subject\": {\n",
    "            \"reference\": \"Patient/\"+id\n",
    "        }\n",
    "    }\n",
    "    response = requests.post(url_observation, json=body)\n",
    "\n",
    "    if response.status_code == 201:\n",
    "        print(f\"Adicionado com sucesso \")\n",
    "    else:\n",
    "        print(f\"\"\"Falha ao criar\"\"\")\n",
    "\n",
    "\n",
    "def post_condition(id, condition):\n",
    "    url_observation = 'http://localhost:8080/fhir/Condition'\n",
    "    body = {\n",
    "        \"resourceType\": \"Condition\",\n",
    "        \"type\": {\n",
    "            \"coding\": [\n",
    "                {\n",
    "                    \"system\": \"http://0.0.0.0/CodeSystem/\",\n",
    "                    \"display\": str(condition)\n",
    "                }\n",
    "            ]\n",
    "        },\n",
    "        \"subject\": {\n",
    "            \"reference\": \"Patient/\"+id\n",
    "        }\n",
    "    }\n",
    "    response = requests.post(url_observation, json=body)\n",
    "\n",
    "    if response.status_code == 201:\n",
    "        print(f\"Adicionado com sucesso \")\n",
    "    else:\n",
    "        print(f\"\"\"Falha ao criar\"\"\")\n",
    "\n",
    "\n",
    "for paciente in dados:\n",
    "    if(paciente['Observacao']):\n",
    "        observacao = paciente['Observacao'].split('|')\n",
    "        _id = get_id (paciente['CPF'])\n",
    "        for condicao in observacao:\n",
    "            if (condicao == 'Gestante'):\n",
    "                post_observation(_id, condicao)\n",
    "            else:\n",
    "                post_condition(_id,condicao)\n",
    "\n",
    "\n"
   ]
  },
  {
   "cell_type": "code",
   "execution_count": 38,
   "metadata": {},
   "outputs": [],
   "source": [
    "def parse_gender(gender):\n",
    "    if gender == 'Masculino':\n",
    "        return 'male'\n",
    "    if gender == 'Feminino':\n",
    "        return 'female'\n",
    "def remover(nome_completo):\n",
    "    return re.sub(r'\\b(?:da|de)\\s(?=[A-Z][a-z])', '', nome_completo)\n",
    "\n",
    "def obter_nomes(nome_completo):\n",
    "    nome_completo = remover(nome_completo)\n",
    "    partes_nome = nome_completo.split()\n",
    "\n",
    "    if len(partes_nome) >= 3:\n",
    "        primeiros_nomes = ' '.join(partes_nome[:2])\n",
    "        sobrenomes = ' '.join(partes_nome[2:])\n",
    "        return primeiros_nomes, sobrenomes\n",
    "    elif len(partes_nome) == 2:\n",
    "        primeiros_nomes = ' '.join(partes_nome[:1])\n",
    "        sobrenomes = ' '.join(partes_nome[1:])\n",
    "        return primeiros_nomes, sobrenomes\n",
    "    else:\n",
    "        return '', ''"
   ]
  },
  {
   "cell_type": "code",
   "execution_count": 27,
   "metadata": {},
   "outputs": [
    {
     "data": {
      "text/plain": [
       "'Jo�o da Silva'"
      ]
     },
     "execution_count": 27,
     "metadata": {},
     "output_type": "execute_result"
    }
   ],
   "source": [
    "dados[0].get(\"Nome\")"
   ]
  },
  {
   "cell_type": "code",
   "execution_count": 42,
   "metadata": {},
   "outputs": [],
   "source": [
    "string= 'Antonio Carvalho da Silva'\n",
    "nome, sobrenome = obter_nomes(string)"
   ]
  },
  {
   "cell_type": "code",
   "execution_count": 44,
   "metadata": {},
   "outputs": [
    {
     "data": {
      "text/plain": [
       "'Silva'"
      ]
     },
     "execution_count": 44,
     "metadata": {},
     "output_type": "execute_result"
    }
   ],
   "source": [
    "sobrenome"
   ]
  },
  {
   "cell_type": "code",
   "execution_count": 23,
   "metadata": {},
   "outputs": [
    {
     "ename": "TypeError",
     "evalue": "expected string or bytes-like object",
     "output_type": "error",
     "traceback": [
      "\u001b[0;31m---------------------------------------------------------------------------\u001b[0m",
      "\u001b[0;31mTypeError\u001b[0m                                 Traceback (most recent call last)",
      "Cell \u001b[0;32mIn[23], line 1\u001b[0m\n\u001b[0;32m----> 1\u001b[0m primeiro_nome, sobrenome \u001b[39m=\u001b[39m obter_nomes(dados[\u001b[39m0\u001b[39;49m]\u001b[39m.\u001b[39;49mget(\u001b[39m\"\u001b[39;49m\u001b[39mNome\u001b[39;49m\u001b[39m\"\u001b[39;49m))\n",
      "Cell \u001b[0;32mIn[21], line 10\u001b[0m, in \u001b[0;36mobter_nomes\u001b[0;34m(nome_completo)\u001b[0m\n\u001b[1;32m      9\u001b[0m \u001b[39mdef\u001b[39;00m \u001b[39mobter_nomes\u001b[39m(nome_completo):\n\u001b[0;32m---> 10\u001b[0m     partes_nome \u001b[39m=\u001b[39m remover(nome_completo\u001b[39m.\u001b[39;49msplit())\n\u001b[1;32m     12\u001b[0m     \u001b[39mif\u001b[39;00m \u001b[39mlen\u001b[39m(partes_nome) \u001b[39m>\u001b[39m\u001b[39m=\u001b[39m \u001b[39m2\u001b[39m:\n\u001b[1;32m     13\u001b[0m         primeiros_nomes \u001b[39m=\u001b[39m \u001b[39m'\u001b[39m\u001b[39m \u001b[39m\u001b[39m'\u001b[39m\u001b[39m.\u001b[39mjoin(partes_nome[:\u001b[39m2\u001b[39m])\n",
      "Cell \u001b[0;32mIn[21], line 7\u001b[0m, in \u001b[0;36mremover\u001b[0;34m(nome_completo)\u001b[0m\n\u001b[1;32m      6\u001b[0m \u001b[39mdef\u001b[39;00m \u001b[39mremover\u001b[39m(nome_completo):\n\u001b[0;32m----> 7\u001b[0m     \u001b[39mreturn\u001b[39;00m re\u001b[39m.\u001b[39;49msub(\u001b[39mr\u001b[39;49m\u001b[39m'\u001b[39;49m\u001b[39m\\\u001b[39;49m\u001b[39mb(?:da|de)\u001b[39;49m\u001b[39m\\\u001b[39;49m\u001b[39ms(?=[A-Z][a-z])\u001b[39;49m\u001b[39m'\u001b[39;49m, \u001b[39m'\u001b[39;49m\u001b[39m'\u001b[39;49m, nome_completo)\n",
      "File \u001b[0;32m/usr/local/Cellar/python@3.10/3.10.6_2/Frameworks/Python.framework/Versions/3.10/lib/python3.10/re.py:209\u001b[0m, in \u001b[0;36msub\u001b[0;34m(pattern, repl, string, count, flags)\u001b[0m\n\u001b[1;32m    202\u001b[0m \u001b[39mdef\u001b[39;00m \u001b[39msub\u001b[39m(pattern, repl, string, count\u001b[39m=\u001b[39m\u001b[39m0\u001b[39m, flags\u001b[39m=\u001b[39m\u001b[39m0\u001b[39m):\n\u001b[1;32m    203\u001b[0m \u001b[39m    \u001b[39m\u001b[39m\"\"\"Return the string obtained by replacing the leftmost\u001b[39;00m\n\u001b[1;32m    204\u001b[0m \u001b[39m    non-overlapping occurrences of the pattern in string by the\u001b[39;00m\n\u001b[1;32m    205\u001b[0m \u001b[39m    replacement repl.  repl can be either a string or a callable;\u001b[39;00m\n\u001b[1;32m    206\u001b[0m \u001b[39m    if a string, backslash escapes in it are processed.  If it is\u001b[39;00m\n\u001b[1;32m    207\u001b[0m \u001b[39m    a callable, it's passed the Match object and must return\u001b[39;00m\n\u001b[1;32m    208\u001b[0m \u001b[39m    a replacement string to be used.\"\"\"\u001b[39;00m\n\u001b[0;32m--> 209\u001b[0m     \u001b[39mreturn\u001b[39;00m _compile(pattern, flags)\u001b[39m.\u001b[39;49msub(repl, string, count)\n",
      "\u001b[0;31mTypeError\u001b[0m: expected string or bytes-like object"
     ]
    }
   ],
   "source": [
    "primeiro_nome, sobrenome = obter_nomes(dados[0].get(\"Nome\"))"
   ]
  },
  {
   "cell_type": "code",
   "execution_count": 22,
   "metadata": {},
   "outputs": [
    {
     "ename": "TypeError",
     "evalue": "expected string or bytes-like object",
     "output_type": "error",
     "traceback": [
      "\u001b[0;31m---------------------------------------------------------------------------\u001b[0m",
      "\u001b[0;31mTypeError\u001b[0m                                 Traceback (most recent call last)",
      "Cell \u001b[0;32mIn[22], line 2\u001b[0m\n\u001b[1;32m      1\u001b[0m \u001b[39mfor\u001b[39;00m paciente \u001b[39min\u001b[39;00m dados:\n\u001b[0;32m----> 2\u001b[0m     primeiro_nome, sobrenome \u001b[39m=\u001b[39m obter_nomes(paciente[\u001b[39m\"\u001b[39;49m\u001b[39mNome\u001b[39;49m\u001b[39m\"\u001b[39;49m])\n\u001b[1;32m      3\u001b[0m     paciente_fhir \u001b[39m=\u001b[39m {\n\u001b[1;32m      4\u001b[0m         \u001b[39m\"\u001b[39m\u001b[39mresourceType\u001b[39m\u001b[39m\"\u001b[39m: \u001b[39m\"\u001b[39m\u001b[39mPatient\u001b[39m\u001b[39m\"\u001b[39m,\n\u001b[1;32m      5\u001b[0m         \u001b[39m\"\u001b[39m\u001b[39midentifier\u001b[39m\u001b[39m\"\u001b[39m: [{paciente[\u001b[39m'\u001b[39m\u001b[39mCPF\u001b[39m\u001b[39m'\u001b[39m]}],\n\u001b[0;32m   (...)\u001b[0m\n\u001b[1;32m     15\u001b[0m         \u001b[39m\"\u001b[39m\u001b[39maddress\u001b[39m\u001b[39m\"\u001b[39m: [{\u001b[39m\"\u001b[39m\u001b[39mcountry\u001b[39m\u001b[39m\"\u001b[39m: paciente[\u001b[39m'\u001b[39m\u001b[39mPais de Nascimento\u001b[39m\u001b[39m'\u001b[39m]}]\n\u001b[1;32m     16\u001b[0m     }\n\u001b[1;32m     17\u001b[0m     \u001b[39mprint\u001b[39m(paciente_fhir[\u001b[39m0\u001b[39m])\n",
      "Cell \u001b[0;32mIn[21], line 10\u001b[0m, in \u001b[0;36mobter_nomes\u001b[0;34m(nome_completo)\u001b[0m\n\u001b[1;32m      9\u001b[0m \u001b[39mdef\u001b[39;00m \u001b[39mobter_nomes\u001b[39m(nome_completo):\n\u001b[0;32m---> 10\u001b[0m     partes_nome \u001b[39m=\u001b[39m remover(nome_completo\u001b[39m.\u001b[39;49msplit())\n\u001b[1;32m     12\u001b[0m     \u001b[39mif\u001b[39;00m \u001b[39mlen\u001b[39m(partes_nome) \u001b[39m>\u001b[39m\u001b[39m=\u001b[39m \u001b[39m2\u001b[39m:\n\u001b[1;32m     13\u001b[0m         primeiros_nomes \u001b[39m=\u001b[39m \u001b[39m'\u001b[39m\u001b[39m \u001b[39m\u001b[39m'\u001b[39m\u001b[39m.\u001b[39mjoin(partes_nome[:\u001b[39m2\u001b[39m])\n",
      "Cell \u001b[0;32mIn[21], line 7\u001b[0m, in \u001b[0;36mremover\u001b[0;34m(nome_completo)\u001b[0m\n\u001b[1;32m      6\u001b[0m \u001b[39mdef\u001b[39;00m \u001b[39mremover\u001b[39m(nome_completo):\n\u001b[0;32m----> 7\u001b[0m     \u001b[39mreturn\u001b[39;00m re\u001b[39m.\u001b[39;49msub(\u001b[39mr\u001b[39;49m\u001b[39m'\u001b[39;49m\u001b[39m\\\u001b[39;49m\u001b[39mb(?:da|de)\u001b[39;49m\u001b[39m\\\u001b[39;49m\u001b[39ms(?=[A-Z][a-z])\u001b[39;49m\u001b[39m'\u001b[39;49m, \u001b[39m'\u001b[39;49m\u001b[39m'\u001b[39;49m, nome_completo)\n",
      "File \u001b[0;32m/usr/local/Cellar/python@3.10/3.10.6_2/Frameworks/Python.framework/Versions/3.10/lib/python3.10/re.py:209\u001b[0m, in \u001b[0;36msub\u001b[0;34m(pattern, repl, string, count, flags)\u001b[0m\n\u001b[1;32m    202\u001b[0m \u001b[39mdef\u001b[39;00m \u001b[39msub\u001b[39m(pattern, repl, string, count\u001b[39m=\u001b[39m\u001b[39m0\u001b[39m, flags\u001b[39m=\u001b[39m\u001b[39m0\u001b[39m):\n\u001b[1;32m    203\u001b[0m \u001b[39m    \u001b[39m\u001b[39m\"\"\"Return the string obtained by replacing the leftmost\u001b[39;00m\n\u001b[1;32m    204\u001b[0m \u001b[39m    non-overlapping occurrences of the pattern in string by the\u001b[39;00m\n\u001b[1;32m    205\u001b[0m \u001b[39m    replacement repl.  repl can be either a string or a callable;\u001b[39;00m\n\u001b[1;32m    206\u001b[0m \u001b[39m    if a string, backslash escapes in it are processed.  If it is\u001b[39;00m\n\u001b[1;32m    207\u001b[0m \u001b[39m    a callable, it's passed the Match object and must return\u001b[39;00m\n\u001b[1;32m    208\u001b[0m \u001b[39m    a replacement string to be used.\"\"\"\u001b[39;00m\n\u001b[0;32m--> 209\u001b[0m     \u001b[39mreturn\u001b[39;00m _compile(pattern, flags)\u001b[39m.\u001b[39;49msub(repl, string, count)\n",
      "\u001b[0;31mTypeError\u001b[0m: expected string or bytes-like object"
     ]
    }
   ],
   "source": [
    "for paciente in dados:\n",
    "    primeiro_nome, sobrenome = obter_nomes(paciente[\"Nome\"])\n",
    "    paciente_fhir = {\n",
    "        \"resourceType\": \"Patient\",\n",
    "        \"identifier\": [{paciente['CPF']}],\n",
    "        \"name\": [{\n",
    "            \"given\": primeiro_nome,\n",
    "            \"family\": sobrenome\n",
    "            }\n",
    "        ],\n",
    "        \"telecom\": [{\"system\": \"phone\", \"value\": paciente['Telefone']}],\n",
    "        \"birthDate\": datetime.strptime(paciente['Data de Nascimento'],\n",
    "                                        \"%d/%m/%Y\").strftime(\"%Y-%m-%d\"),\n",
    "        \"gender\": parse_gender(paciente['Genero']),\n",
    "        \"address\": [{\"country\": paciente['Pais de Nascimento']}]\n",
    "    }\n",
    "    print(paciente_fhir[0])"
   ]
  }
 ],
 "metadata": {
  "kernelspec": {
   "display_name": "Python 3",
   "language": "python",
   "name": "python3"
  },
  "language_info": {
   "codemirror_mode": {
    "name": "ipython",
    "version": 3
   },
   "file_extension": ".py",
   "mimetype": "text/x-python",
   "name": "python",
   "nbconvert_exporter": "python",
   "pygments_lexer": "ipython3",
   "version": "3.10.6 (main, Aug 30 2022, 05:12:36) [Clang 13.1.6 (clang-1316.0.21.2.5)]"
  },
  "orig_nbformat": 4,
  "vscode": {
   "interpreter": {
    "hash": "aee8b7b246df8f9039afb4144a1f6fd8d2ca17a180786b69acc140d282b71a49"
   }
  }
 },
 "nbformat": 4,
 "nbformat_minor": 2
}
